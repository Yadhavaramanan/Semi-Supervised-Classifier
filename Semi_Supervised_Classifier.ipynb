{
  "nbformat": 4,
  "nbformat_minor": 0,
  "metadata": {
    "colab": {
      "provenance": []
    },
    "kernelspec": {
      "name": "python3",
      "display_name": "Python 3"
    },
    "language_info": {
      "name": "python"
    }
  },
  "cells": [
    {
      "cell_type": "code",
      "execution_count": 126,
      "metadata": {
        "id": "lBSQCx8umdnP"
      },
      "outputs": [],
      "source": [
        "from sklearn.feature_extraction.text import TfidfVectorizer\n",
        "from sklearn.semi_supervised import LabelPropagation\n",
        "from sklearn.metrics import accuracy_score, precision_score, recall_score\n",
        "from sklearn.model_selection import train_test_split\n",
        "import numpy as np"
      ]
    },
    {
      "cell_type": "code",
      "source": [
        "labeled_data = [(\"I am studying in MKCE\", \"MKCE\"),\n",
        "(\"I read News Paper \", \"News Paper\"),\n",
        "(\"I love my Mother\", \"Mother\"),\n",
        "(\"I have a bike\", \"Bike\"),\n",
        "(\"I like  music\", \"Music\"),\n",
        " (\"I am studying in MKCE\", \"MKCE\"),\n",
        "(\"I read News Paper \", \"News Paper\"),\n",
        "(\"I love my Mother\", \"Mother\"),\n",
        "(\"I have a bike\", \"Bike\"),\n",
        "(\"I like  music\", \"Music\")]\n",
        "unlabeled_data = [\"I learn Music\",\n",
        "                  \"My sister is singer\",\n",
        "                  \"I have a mother\"]"
      ],
      "metadata": {
        "id": "lQL4e6rEnVx2"
      },
      "execution_count": 127,
      "outputs": []
    },
    {
      "cell_type": "code",
      "source": [
        "all_data = [text for text, _ in labeled_data] + unlabeled_data"
      ],
      "metadata": {
        "id": "QIhrityoodcD"
      },
      "execution_count": 128,
      "outputs": []
    },
    {
      "cell_type": "code",
      "source": [
        "texts, labels = zip(*labeled_data)\n",
        "vectorizer = TfidfVectorizer(max_features=500)\n",
        "features = vectorizer.fit_transform(all_data)"
      ],
      "metadata": {
        "id": "0D-wVHd4okGK"
      },
      "execution_count": 129,
      "outputs": []
    },
    {
      "cell_type": "code",
      "source": [
        "features_dense = features.toarray()\n",
        "all_labels = sorted(set(labels))"
      ],
      "metadata": {
        "id": "bHWqibqmoz4J"
      },
      "execution_count": 130,
      "outputs": []
    },
    {
      "cell_type": "code",
      "source": [
        "label_distributions = np.zeros((len(texts), len(all_labels)))\n",
        "for i, label in enumerate(labels):\n",
        "   label_distributions[i, all_labels.index(label)] = 1\n"
      ],
      "metadata": {
        "id": "iS9rpXc5o56P"
      },
      "execution_count": 131,
      "outputs": []
    },
    {
      "cell_type": "code",
      "source": [
        "X_train, X_test, y_train, y_test = train_test_split(features_dense[:len(texts)],labels, test_size=0.2, random_state=20)\n",
        "y_train_indices = np.array([all_labels.index(label) for label in y_train])"
      ],
      "metadata": {
        "id": "zmb6g-0BpWmJ"
      },
      "execution_count": 132,
      "outputs": []
    },
    {
      "cell_type": "code",
      "source": [
        "semi_clf = LabelPropagation()\n",
        "semi_clf.fit(X_train, y_train_indices)\n",
        "predictions = semi_clf.predict(X_test)"
      ],
      "metadata": {
        "id": "RYLIdgNHprEu"
      },
      "execution_count": 133,
      "outputs": []
    },
    {
      "cell_type": "code",
      "source": [
        "accuracy = accuracy_score(np.array([all_labels.index(label) for label in y_test]),predictions)\n",
        "precision = precision_score(np.array([all_labels.index(label) for label in y_test]), predictions, average='weighted', labels=np.unique(predictions))\n",
        "recall = recall_score(np.array([all_labels.index(label) for label in y_test]),predictions, average='weighted', labels=np.unique(predictions))"
      ],
      "metadata": {
        "id": "jNNZTVVBpzv1"
      },
      "execution_count": 134,
      "outputs": []
    },
    {
      "cell_type": "code",
      "source": [
        "print(f'Accuracy: {accuracy:.4f}')\n",
        "print(f'Precision: {precision:.4f}')\n",
        "print(f'Recall: {recall:.4f}')"
      ],
      "metadata": {
        "colab": {
          "base_uri": "https://localhost:8080/"
        },
        "id": "v8bobAxPqjOp",
        "outputId": "91ef5918-0ba6-4be6-f4e6-663777a6d070"
      },
      "execution_count": 135,
      "outputs": [
        {
          "output_type": "stream",
          "name": "stdout",
          "text": [
            "Accuracy: 1.0000\n",
            "Precision: 1.0000\n",
            "Recall: 1.0000\n"
          ]
        }
      ]
    }
  ]
}